{
 "cells": [
  {
   "cell_type": "code",
   "execution_count": 1,
   "metadata": {},
   "outputs": [
    {
     "data": {
      "text/html": [
       "\n",
       "        <iframe\n",
       "            width=\"100%\"\n",
       "            height=\"650\"\n",
       "            src=\"http://127.0.0.1:8050/\"\n",
       "            frameborder=\"0\"\n",
       "            allowfullscreen\n",
       "        ></iframe>\n",
       "        "
      ],
      "text/plain": [
       "<IPython.lib.display.IFrame at 0x235d90219d0>"
      ]
     },
     "metadata": {},
     "output_type": "display_data"
    }
   ],
   "source": [
    "import pandas as pd\n",
    "#import dash\n",
    "from jupyter_dash import JupyterDash\n",
    "import dash_html_components as html\n",
    "import dash_core_components as dcc\n",
    "from dash.dependencies import Input, Output\n",
    "import plotly.express as px\n",
    "\n",
    "# Read the airline data into pandas dataframe\n",
    "spacex_df = pd.read_csv(\"spacex_launch_dash.csv\")\n",
    "max_payload = spacex_df['Payload Mass (kg)'].max()\n",
    "min_payload = spacex_df['Payload Mass (kg)'].min()\n",
    "\n",
    "launch_sites=spacex_df['Launch Site'].unique()#my definition\n",
    "\n",
    "# Create a dash application\n",
    "#app = dash.Dash(__name__)\n",
    "app = JupyterDash(__name__)\n",
    "# Create an app layout\n",
    "app.layout = html.Div(children=[html.H1('SpaceX Launch Records Dashboard',\n",
    "                                        style={'textAlign': 'center', 'color': '#503D36',\n",
    "                                               'font-size': 40}),\n",
    "                                # TASK 1: Add a dropdown list to enable Launch Site selection\n",
    "                                # The default select value is for ALL sites\n",
    "                                dcc.Dropdown(id='site-dropdown', \n",
    "                                options=[{'label':x, 'value':x} for x in launch_sites], \n",
    "                                value='ALL', \n",
    "                                placeholder='Select a Launch Site here'),\n",
    "                                html.Br(),\n",
    "\n",
    "                                # TASK 2: Add a pie chart to show the total successful launches count for all sites\n",
    "                                # If a specific launch site was selected, show the Success vs. Failed counts for the site\n",
    "                                html.Div(dcc.Graph(id='success-pie-chart')),\n",
    "                                html.Br(),\n",
    "\n",
    "                                html.P(\"Payload range (Kg):\"),\n",
    "                                # TASK 3: Add a slider to select payload range\n",
    "                                dcc.RangeSlider(id='payload-slider',min=0, max=10000, step=1000,\n",
    "                                               value=[min_payload,max_payload]),\n",
    "\n",
    "                                # TASK 4: Add a scatter chart to show the correlation between payload and launch success\n",
    "                                html.Div(dcc.Graph(id='success-payload-scatter-chart'))\n",
    "                                ])\n",
    "\n",
    "# TASK 2:\n",
    "# Add a callback function for `site-dropdown` as input, `success-pie-chart` as output\n",
    "@app.callback(\n",
    "    Output(component_id='success-pie-chart', component_property='figure'), \n",
    "    [Input(component_id='site-dropdown', component_property='value')])\n",
    "def pie_Chart(value_pie):\n",
    "            if value_pie=='ALL':   \n",
    "                return px.pie(spacex_df, values=spacex_df.groupby(['Launch Site'])['class'].sum(), \n",
    "                          names=spacex_df['Launch Site'].unique(), \n",
    "                          title='All Launch Sites and Successes')\n",
    "            else:\n",
    "                return px.pie(spacex_df, values=spacex_df[spacex_df['Launch Site']==value_pie]['class'].value_counts(), \n",
    "                          names=spacex_df[spacex_df['Launch Site']==value_pie]['class'].unique(), \n",
    "                          title='Launch Site Successes and Failures')\n",
    "# Add a callback function for `site-dropdown` and `payload-slider` as inputs, `success-payload-scatter-chart` as output\n",
    "\n",
    "@app.callback(\n",
    "    Output(component_id='success-payload-scatter-chart', component_property='figure'), \n",
    "    [Input(component_id='site-dropdown', component_property='value'),\n",
    "    Input(component_id='payload-slider', component_property='value')])\n",
    "def scatter_graph (scatter_value, slider_value):\n",
    "    if scatter_value==\"ALL\":\n",
    "        return px.scatter(spacex_df, \n",
    "                          x=spacex_df[spacex_df['Payload Mass (kg)']<=slider_value[1]]['Payload Mass (kg)'] , \n",
    "                          y=spacex_df[spacex_df['Payload Mass (kg)']<=slider_value[1]]['class'], \n",
    "                          color=spacex_df[spacex_df['Payload Mass (kg)']<=slider_value[1]]['Booster Version Category'])\n",
    "    else:\n",
    "        return px.scatter(spacex_df, x=spacex_df[spacex_df['Launch Site']==scatter_value]['Payload Mass (kg)'], \n",
    "                          y=spacex_df[spacex_df['Launch Site']==scatter_value]['class'], \n",
    "                          color=spacex_df[spacex_df['Launch Site']==scatter_value]['Booster Version Category'])\n",
    "\n",
    "# Run the app\n",
    "#if __name__ == '__main__':\n",
    "#    app.run_server()\n",
    "app.run_server(mode='inline')"
   ]
  },
  {
   "cell_type": "code",
   "execution_count": null,
   "metadata": {},
   "outputs": [],
   "source": []
  }
 ],
 "metadata": {
  "kernelspec": {
   "display_name": "Python 3",
   "language": "python",
   "name": "python3"
  },
  "language_info": {
   "codemirror_mode": {
    "name": "ipython",
    "version": 3
   },
   "file_extension": ".py",
   "mimetype": "text/x-python",
   "name": "python",
   "nbconvert_exporter": "python",
   "pygments_lexer": "ipython3",
   "version": "3.8.5"
  }
 },
 "nbformat": 4,
 "nbformat_minor": 4
}
